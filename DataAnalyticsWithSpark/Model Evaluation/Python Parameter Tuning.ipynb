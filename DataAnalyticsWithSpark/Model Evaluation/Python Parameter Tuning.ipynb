{
 "cells": [
  {
   "cell_type": "markdown",
   "metadata": {},
   "source": [
    "## Tuning Model Parameters\n",
    "\n",
    "In this exercise, you will optimise the parameters for a classification model.\n",
    "\n",
    "### Prepare the Data\n",
    "\n",
    "First, import the libraries you will need and prepare the training and test data:"
   ]
  },
  {
   "cell_type": "code",
   "execution_count": 1,
   "metadata": {
    "collapsed": true,
    "scrolled": false
   },
   "outputs": [],
   "source": [
    "# Import Spark SQL and Spark ML libraries\n",
    "from pyspark.sql.types import *\n",
    "from pyspark.sql.functions import *\n",
    "\n",
    "from pyspark.ml import Pipeline\n",
    "from pyspark.ml.classification import LogisticRegression\n",
    "from pyspark.ml.feature import VectorAssembler\n",
    "from pyspark.ml.tuning import ParamGridBuilder, TrainValidationSplit\n",
    "from pyspark.ml.evaluation import BinaryClassificationEvaluator\n",
    "\n",
    "# Load the source data\n",
    "wkdir ='file:///mnt/c/Users/Adura/Google Drive/Projects/Jupyter/SparkMs/data/'\n",
    "csv = spark.read.csv(wkdir + 'flights.csv', inferSchema=True, header=True)\n",
    "\n",
    "# Select features and label\n",
    "data = csv.select(\"DayofMonth\", \"DayOfWeek\", \"OriginAirportID\", \"DestAirportID\", \"DepDelay\", ((col(\"ArrDelay\") > 15).cast(\"Int\").alias(\"label\")))\n",
    "\n",
    "# Split the data\n",
    "splits = data.randomSplit([0.7, 0.3])\n",
    "train = splits[0]\n",
    "test = splits[1].withColumnRenamed(\"label\", \"trueLabel\")"
   ]
  },
  {
   "cell_type": "markdown",
   "metadata": {},
   "source": [
    "### Define the Pipeline\n",
    "Now define a pipeline that creates a feature vector and trains a classification model"
   ]
  },
  {
   "cell_type": "code",
   "execution_count": 2,
   "metadata": {
    "collapsed": true,
    "scrolled": false
   },
   "outputs": [],
   "source": [
    "# Define the pipeline\n",
    "assembler = VectorAssembler(inputCols = [\"DayofMonth\", \"DayOfWeek\", \"OriginAirportID\", \"DestAirportID\", \"DepDelay\"], outputCol=\"features\")\n",
    "lr = LogisticRegression(labelCol=\"label\", featuresCol=\"features\")\n",
    "pipeline = Pipeline(stages=[assembler, lr])"
   ]
  },
  {
   "cell_type": "markdown",
   "metadata": {},
   "source": [
    "### Tune Parameters\n",
    "You can tune parameters to find the best model for your data. A simple way to do this is to use  **TrainValidationSplit** to evaluate each combination of parameters defined in a **ParameterGrid** against a subset of the training data in order to find the best performing parameters."
   ]
  },
  {
   "cell_type": "code",
   "execution_count": 3,
   "metadata": {},
   "outputs": [],
   "source": [
    "paramGrid = ParamGridBuilder().addGrid(lr.regParam, [0.3, 0.1, 0.01]).addGrid(lr.maxIter, [10, 5]).addGrid(lr.threshold, [0.35, 0.30]).build()\n",
    "tvs = TrainValidationSplit(estimator=pipeline, evaluator=BinaryClassificationEvaluator(), estimatorParamMaps=paramGrid, trainRatio=0.8)\n",
    "\n",
    "model = tvs.fit(train)"
   ]
  },
  {
   "cell_type": "markdown",
   "metadata": {},
   "source": [
    "### Test the Model\n",
    "Now you're ready to apply the model to the test data."
   ]
  },
  {
   "cell_type": "code",
   "execution_count": 4,
   "metadata": {
    "scrolled": false
   },
   "outputs": [
    {
     "name": "stdout",
     "output_type": "stream",
     "text": [
      "+--------------------+----------+--------------------+---------+\n",
      "|            features|prediction|         probability|trueLabel|\n",
      "+--------------------+----------+--------------------+---------+\n",
      "|[1.0,1.0,10140.0,...|       0.0|[0.89611793897767...|        0|\n",
      "|[1.0,1.0,10140.0,...|       1.0|[0.43912467800172...|        1|\n",
      "|[1.0,1.0,10140.0,...|       0.0|[0.91344499958969...|        0|\n",
      "|[1.0,1.0,10140.0,...|       0.0|[0.94028882691279...|        0|\n",
      "|[1.0,1.0,10140.0,...|       0.0|[0.91346895106597...|        0|\n",
      "|[1.0,1.0,10140.0,...|       0.0|[0.89630112503164...|        0|\n",
      "|[1.0,1.0,10140.0,...|       0.0|[0.92217557433960...|        0|\n",
      "|[1.0,1.0,10140.0,...|       1.0|[0.58403597236963...|        1|\n",
      "|[1.0,1.0,10140.0,...|       0.0|[0.91961192722143...|        0|\n",
      "|[1.0,1.0,10140.0,...|       0.0|[0.90918950322554...|        0|\n",
      "|[1.0,1.0,10140.0,...|       0.0|[0.90353416541555...|        0|\n",
      "|[1.0,1.0,10140.0,...|       0.0|[0.94465112156375...|        0|\n",
      "|[1.0,1.0,10140.0,...|       0.0|[0.91455649103329...|        0|\n",
      "|[1.0,1.0,10140.0,...|       0.0|[0.90920201001017...|        0|\n",
      "|[1.0,1.0,10140.0,...|       0.0|[0.90745301311642...|        0|\n",
      "|[1.0,1.0,10140.0,...|       0.0|[0.92341324857510...|        0|\n",
      "|[1.0,1.0,10140.0,...|       0.0|[0.94437333144004...|        0|\n",
      "|[1.0,1.0,10140.0,...|       0.0|[0.91414138723316...|        0|\n",
      "|[1.0,1.0,10140.0,...|       0.0|[0.90308444763582...|        0|\n",
      "|[1.0,1.0,10140.0,...|       0.0|[0.88411769620049...|        0|\n",
      "|[1.0,1.0,10140.0,...|       0.0|[0.84537100681228...|        0|\n",
      "|[1.0,1.0,10140.0,...|       0.0|[0.80128781077817...|        0|\n",
      "|[1.0,1.0,10140.0,...|       1.0|[0.12689176976252...|        1|\n",
      "|[1.0,1.0,10299.0,...|       0.0|[0.93704286047004...|        0|\n",
      "|[1.0,1.0,10299.0,...|       0.0|[0.96767730302224...|        0|\n",
      "|[1.0,1.0,10299.0,...|       0.0|[0.95821418610312...|        0|\n",
      "|[1.0,1.0,10299.0,...|       0.0|[0.93498660896518...|        0|\n",
      "|[1.0,1.0,10299.0,...|       0.0|[0.86600581893266...|        0|\n",
      "|[1.0,1.0,10299.0,...|       0.0|[0.91204237642625...|        0|\n",
      "|[1.0,1.0,10397.0,...|       0.0|[0.89100963363697...|        0|\n",
      "|[1.0,1.0,10397.0,...|       0.0|[0.87890260581162...|        0|\n",
      "|[1.0,1.0,10397.0,...|       0.0|[0.91057693819241...|        0|\n",
      "|[1.0,1.0,10397.0,...|       0.0|[0.91057693819241...|        0|\n",
      "|[1.0,1.0,10397.0,...|       0.0|[0.87222515911736...|        0|\n",
      "|[1.0,1.0,10397.0,...|       0.0|[0.91124897686344...|        0|\n",
      "|[1.0,1.0,10397.0,...|       0.0|[0.89986035447292...|        0|\n",
      "|[1.0,1.0,10397.0,...|       0.0|[0.89369196448132...|        0|\n",
      "|[1.0,1.0,10397.0,...|       0.0|[0.90582927262258...|        0|\n",
      "|[1.0,1.0,10397.0,...|       0.0|[0.89382621967602...|        0|\n",
      "|[1.0,1.0,10397.0,...|       0.0|[0.89382621967602...|        0|\n",
      "|[1.0,1.0,10397.0,...|       0.0|[0.89382621967602...|        1|\n",
      "|[1.0,1.0,10397.0,...|       1.0|[0.66017049379448...|        0|\n",
      "|[1.0,1.0,10397.0,...|       1.0|[0.06485012628997...|        1|\n",
      "|[1.0,1.0,10397.0,...|       0.0|[0.91687563590822...|        0|\n",
      "|[1.0,1.0,10397.0,...|       0.0|[0.80231546603655...|        0|\n",
      "|[1.0,1.0,10397.0,...|       0.0|[0.93908157035042...|        0|\n",
      "|[1.0,1.0,10397.0,...|       0.0|[0.91698717639051...|        0|\n",
      "|[1.0,1.0,10397.0,...|       0.0|[0.90625913866755...|        0|\n",
      "|[1.0,1.0,10397.0,...|       0.0|[0.90625913866755...|        0|\n",
      "|[1.0,1.0,10397.0,...|       0.0|[0.86632738775419...|        0|\n",
      "|[1.0,1.0,10397.0,...|       1.0|[0.56689204838616...|        0|\n",
      "|[1.0,1.0,10397.0,...|       0.0|[0.90720290715370...|        0|\n",
      "|[1.0,1.0,10397.0,...|       0.0|[0.90720290715370...|        0|\n",
      "|[1.0,1.0,10397.0,...|       0.0|[0.92277549873080...|        0|\n",
      "|[1.0,1.0,10397.0,...|       0.0|[0.91272430979310...|        0|\n",
      "|[1.0,1.0,10397.0,...|       0.0|[0.91272430979310...|        0|\n",
      "|[1.0,1.0,10397.0,...|       0.0|[0.89542565940712...|        0|\n",
      "|[1.0,1.0,10397.0,...|       0.0|[0.85163456644831...|        0|\n",
      "|[1.0,1.0,10397.0,...|       1.0|[0.24626597444173...|        1|\n",
      "|[1.0,1.0,10397.0,...|       0.0|[0.90730488283044...|        0|\n",
      "|[1.0,1.0,10397.0,...|       0.0|[0.88906262435795...|        0|\n",
      "|[1.0,1.0,10397.0,...|       0.0|[0.90784283081910...|        0|\n",
      "|[1.0,1.0,10397.0,...|       0.0|[0.91353343718099...|        0|\n",
      "|[1.0,1.0,10397.0,...|       1.0|[0.50617087924663...|        0|\n",
      "|[1.0,1.0,10397.0,...|       0.0|[0.90820130620502...|        1|\n",
      "|[1.0,1.0,10397.0,...|       0.0|[0.89646603720166...|        0|\n",
      "|[1.0,1.0,10397.0,...|       1.0|[0.01516423548825...|        1|\n",
      "|[1.0,1.0,10397.0,...|       1.0|[0.00956427046023...|        1|\n",
      "|[1.0,1.0,10397.0,...|       0.0|[0.89018322491797...|        0|\n",
      "|[1.0,1.0,10397.0,...|       0.0|[0.92820864530839...|        0|\n",
      "|[1.0,1.0,10397.0,...|       0.0|[0.91880238551884...|        0|\n",
      "|[1.0,1.0,10397.0,...|       0.0|[0.91880238551884...|        0|\n",
      "|[1.0,1.0,10397.0,...|       0.0|[0.90828547099664...|        0|\n",
      "|[1.0,1.0,10397.0,...|       0.0|[0.89021283972272...|        0|\n",
      "|[1.0,1.0,10397.0,...|       0.0|[0.89021283972272...|        0|\n",
      "|[1.0,1.0,10397.0,...|       0.0|[0.86132065178149...|        0|\n",
      "|[1.0,1.0,10397.0,...|       0.0|[0.84461764533313...|        0|\n",
      "|[1.0,1.0,10397.0,...|       0.0|[0.91422495734407...|        0|\n",
      "|[1.0,1.0,10397.0,...|       0.0|[0.90885177076337...|        0|\n",
      "|[1.0,1.0,10397.0,...|       0.0|[0.89087732389622...|        0|\n",
      "|[1.0,1.0,10397.0,...|       0.0|[0.88422678868366...|        0|\n",
      "|[1.0,1.0,10397.0,...|       0.0|[0.86323954072267...|        0|\n",
      "|[1.0,1.0,10397.0,...|       0.0|[0.83787487675587...|        0|\n",
      "|[1.0,1.0,10397.0,...|       1.0|[0.07656040502880...|        1|\n",
      "|[1.0,1.0,10397.0,...|       1.0|[0.07656040502880...|        1|\n",
      "|[1.0,1.0,10397.0,...|       0.0|[0.90995011640923...|        0|\n",
      "|[1.0,1.0,10397.0,...|       0.0|[0.89841340350947...|        0|\n",
      "|[1.0,1.0,10397.0,...|       0.0|[0.89841340350947...|        0|\n",
      "|[1.0,1.0,10397.0,...|       0.0|[0.89216656505981...|        0|\n",
      "|[1.0,1.0,10397.0,...|       0.0|[0.85567178240330...|        0|\n",
      "|[1.0,1.0,10397.0,...|       0.0|[0.82918128378241...|        0|\n",
      "|[1.0,1.0,10397.0,...|       0.0|[0.82918128378241...|        0|\n",
      "|[1.0,1.0,10397.0,...|       0.0|[0.92210364943670...|        0|\n",
      "|[1.0,1.0,10397.0,...|       0.0|[0.91197335731450...|        0|\n",
      "|[1.0,1.0,10397.0,...|       0.0|[0.90066755562028...|        0|\n",
      "|[1.0,1.0,10397.0,...|       0.0|[0.87413769370145...|        0|\n",
      "|[1.0,1.0,10397.0,...|       0.0|[0.76938810790128...|        0|\n",
      "|[1.0,1.0,10397.0,...|       0.0|[0.92236801499098...|        0|\n",
      "|[1.0,1.0,10397.0,...|       0.0|[0.91745887723313...|        0|\n",
      "|[1.0,1.0,10397.0,...|       0.0|[0.91226883214855...|        0|\n",
      "+--------------------+----------+--------------------+---------+\n",
      "only showing top 100 rows\n",
      "\n"
     ]
    }
   ],
   "source": [
    "prediction = model.transform(test)\n",
    "predicted = prediction.select(\"features\", \"prediction\", \"probability\", \"trueLabel\")\n",
    "predicted.show(100)"
   ]
  },
  {
   "cell_type": "markdown",
   "metadata": {},
   "source": [
    "### Compute Confusion Matrix Metrics\n",
    "Classifiers are typically evaluated by creating a *confusion matrix*, which indicates the number of:\n",
    "- True Positives\n",
    "- True Negatives\n",
    "- False Positives\n",
    "- False Negatives\n",
    "\n",
    "From these core measures, other evaluation metrics such as *precision* and *recall* can be calculated."
   ]
  },
  {
   "cell_type": "code",
   "execution_count": 5,
   "metadata": {},
   "outputs": [
    {
     "name": "stdout",
     "output_type": "stream",
     "text": [
      "+---------+------------------+\n",
      "|   metric|             value|\n",
      "+---------+------------------+\n",
      "|       TP|          115583.0|\n",
      "|       FP|           14188.0|\n",
      "|       TN|          634569.0|\n",
      "|       FN|           45376.0|\n",
      "|Precision| 0.890668947607709|\n",
      "|   Recall|0.7180896998614554|\n",
      "+---------+------------------+\n",
      "\n"
     ]
    }
   ],
   "source": [
    "tp = float(predicted.filter(\"prediction == 1.0 AND truelabel == 1\").count())\n",
    "fp = float(predicted.filter(\"prediction == 1.0 AND truelabel == 0\").count())\n",
    "tn = float(predicted.filter(\"prediction == 0.0 AND truelabel == 0\").count())\n",
    "fn = float(predicted.filter(\"prediction == 0.0 AND truelabel == 1\").count())\n",
    "metrics = spark.createDataFrame([\n",
    " (\"TP\", tp),\n",
    " (\"FP\", fp),\n",
    " (\"TN\", tn),\n",
    " (\"FN\", fn),\n",
    " (\"Precision\", tp / (tp + fp)),\n",
    " (\"Recall\", tp / (tp + fn))],[\"metric\", \"value\"])\n",
    "metrics.show()"
   ]
  },
  {
   "cell_type": "markdown",
   "metadata": {},
   "source": [
    "### Review the Area Under ROC\n",
    "Another way to assess the performance of a classification model is to measure the area under a ROC curve for the model. the spark.ml library includes a **BinaryClassificationEvaluator** class that you can use to compute this."
   ]
  },
  {
   "cell_type": "code",
   "execution_count": 7,
   "metadata": {},
   "outputs": [
    {
     "name": "stdout",
     "output_type": "stream",
     "text": [
      "AUR =  0.8481100931573904\n"
     ]
    }
   ],
   "source": [
    "evaluator = BinaryClassificationEvaluator(labelCol=\"trueLabel\", rawPredictionCol=\"prediction\", metricName=\"areaUnderROC\")\n",
    "aur = evaluator.evaluate(prediction)\n",
    "print(\"AUR = \", aur)"
   ]
  },
  {
   "cell_type": "code",
   "execution_count": null,
   "metadata": {
    "collapsed": true
   },
   "outputs": [],
   "source": []
  }
 ],
 "metadata": {
  "kernelspec": {
   "display_name": "Python 3",
   "language": "python",
   "name": "python3"
  }
 },
 "nbformat": 4,
 "nbformat_minor": 1
}
