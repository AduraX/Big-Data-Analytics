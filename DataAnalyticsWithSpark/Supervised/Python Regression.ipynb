{
 "cells": [
  {
   "cell_type": "markdown",
   "metadata": {},
   "source": [
    "## Creating a Regression Model\n",
    "\n",
    "In this exercise, you will implement a regression model that uses features of a flight to predict how late or early it will arrive.\n",
    "\n",
    "### Import Spark SQL and Spark ML Libraries\n",
    "\n",
    "First, import the libraries you will need:"
   ]
  },
  {
   "cell_type": "code",
   "execution_count": 5,
   "metadata": {
    "collapsed": true,
    "scrolled": false
   },
   "outputs": [],
   "source": [
    "from pyspark.sql.types import *\n",
    "from pyspark.sql.functions import *\n",
    "\n",
    "from pyspark.ml.regression import LinearRegression\n",
    "from pyspark.ml.feature import VectorAssembler"
   ]
  },
  {
   "cell_type": "markdown",
   "metadata": {},
   "source": [
    "### Load Source Data\n",
    "The data for this exercise is provided as a CSV file containing details of flights. The data includes specific characteristics (or *features*) for each flight, as well as a *label* column indicating how many minutes late or early the flight arrived.\n",
    "\n",
    "You will load this data into a DataFrame and display it."
   ]
  },
  {
   "cell_type": "code",
   "execution_count": 6,
   "metadata": {
    "scrolled": false
   },
   "outputs": [
    {
     "name": "stdout",
     "output_type": "stream",
     "text": [
      "+----------+---------+-------+---------------+-------------+--------+--------+\n",
      "|DayofMonth|DayOfWeek|Carrier|OriginAirportID|DestAirportID|DepDelay|ArrDelay|\n",
      "+----------+---------+-------+---------------+-------------+--------+--------+\n",
      "|        19|        5|     DL|          11433|        13303|      -3|       1|\n",
      "|        19|        5|     DL|          14869|        12478|       0|      -8|\n",
      "|        19|        5|     DL|          14057|        14869|      -4|     -15|\n",
      "|        19|        5|     DL|          15016|        11433|      28|      24|\n",
      "|        19|        5|     DL|          11193|        12892|      -6|     -11|\n",
      "|        19|        5|     DL|          10397|        15016|      -1|     -19|\n",
      "|        19|        5|     DL|          15016|        10397|       0|      -1|\n",
      "|        19|        5|     DL|          10397|        14869|      15|      24|\n",
      "|        19|        5|     DL|          10397|        10423|      33|      34|\n",
      "|        19|        5|     DL|          11278|        10397|     323|     322|\n",
      "|        19|        5|     DL|          14107|        13487|      -7|     -13|\n",
      "|        19|        5|     DL|          11433|        11298|      22|      41|\n",
      "|        19|        5|     DL|          11298|        11433|      40|      20|\n",
      "|        19|        5|     DL|          11433|        12892|      -2|      -7|\n",
      "|        19|        5|     DL|          10397|        12451|      71|      75|\n",
      "|        19|        5|     DL|          12451|        10397|      75|      57|\n",
      "|        19|        5|     DL|          12953|        10397|      -1|      10|\n",
      "|        19|        5|     DL|          11433|        12953|      -3|     -10|\n",
      "|        19|        5|     DL|          10397|        14771|      31|      38|\n",
      "|        19|        5|     DL|          13204|        10397|       8|      25|\n",
      "+----------+---------+-------+---------------+-------------+--------+--------+\n",
      "only showing top 20 rows\n",
      "\n"
     ]
    }
   ],
   "source": [
    "wkdir ='file:///mnt/c/Users/Adura/Google Drive/Projects/Jupyter/SparkMs/data/'\n",
    "csv = spark.read.csv(wkdir + 'flights.csv', inferSchema=True, header=True)\n",
    "csv.show()"
   ]
  },
  {
   "cell_type": "markdown",
   "metadata": {},
   "source": [
    "### Prepare the Data\n",
    "Most modeling begins with exhaustive exploration and preparation of the data. In this example, you will simply select a subset of columns to use as *features* as well as the **ArrDelay** column, which will be the *label* your model will predict."
   ]
  },
  {
   "cell_type": "code",
   "execution_count": 7,
   "metadata": {},
   "outputs": [
    {
     "name": "stdout",
     "output_type": "stream",
     "text": [
      "+----------+---------+---------------+-------------+--------+--------+\n",
      "|DayofMonth|DayOfWeek|OriginAirportID|DestAirportID|DepDelay|ArrDelay|\n",
      "+----------+---------+---------------+-------------+--------+--------+\n",
      "|        19|        5|          11433|        13303|      -3|       1|\n",
      "|        19|        5|          14869|        12478|       0|      -8|\n",
      "|        19|        5|          14057|        14869|      -4|     -15|\n",
      "|        19|        5|          15016|        11433|      28|      24|\n",
      "|        19|        5|          11193|        12892|      -6|     -11|\n",
      "|        19|        5|          10397|        15016|      -1|     -19|\n",
      "|        19|        5|          15016|        10397|       0|      -1|\n",
      "|        19|        5|          10397|        14869|      15|      24|\n",
      "|        19|        5|          10397|        10423|      33|      34|\n",
      "|        19|        5|          11278|        10397|     323|     322|\n",
      "|        19|        5|          14107|        13487|      -7|     -13|\n",
      "|        19|        5|          11433|        11298|      22|      41|\n",
      "|        19|        5|          11298|        11433|      40|      20|\n",
      "|        19|        5|          11433|        12892|      -2|      -7|\n",
      "|        19|        5|          10397|        12451|      71|      75|\n",
      "|        19|        5|          12451|        10397|      75|      57|\n",
      "|        19|        5|          12953|        10397|      -1|      10|\n",
      "|        19|        5|          11433|        12953|      -3|     -10|\n",
      "|        19|        5|          10397|        14771|      31|      38|\n",
      "|        19|        5|          13204|        10397|       8|      25|\n",
      "+----------+---------+---------------+-------------+--------+--------+\n",
      "only showing top 20 rows\n",
      "\n"
     ]
    }
   ],
   "source": [
    "data = csv.select(\"DayofMonth\", \"DayOfWeek\", \"OriginAirportID\", \"DestAirportID\", \"DepDelay\", \"ArrDelay\")\n",
    "data.show()"
   ]
  },
  {
   "cell_type": "markdown",
   "metadata": {},
   "source": [
    "### Split the Data\n",
    "It is common practice when building supervised machine learning models to split the source data, using some of it to train the model and reserving some to test the trained model. In this exercise, you will use 70% of the data for training, and reserve 30% for testing."
   ]
  },
  {
   "cell_type": "code",
   "execution_count": 8,
   "metadata": {},
   "outputs": [
    {
     "name": "stdout",
     "output_type": "stream",
     "text": [
      "Training Rows: 1891526  Testing Rows: 810692\n"
     ]
    }
   ],
   "source": [
    "splits = data.randomSplit([0.7, 0.3])\n",
    "train = splits[0]\n",
    "test = splits[1]\n",
    "train_rows = train.count()\n",
    "test_rows = test.count()\n",
    "print(\"Training Rows:\", train_rows, \" Testing Rows:\", test_rows)"
   ]
  },
  {
   "cell_type": "markdown",
   "metadata": {},
   "source": [
    "### Prepare the Training Data\n",
    "To train the regression model, you need a training data set that includes a vector of numeric features, and a label column. In this exercise, you will use the **VectorAssembler** class to transform the feature columns into a vector, and then rename the **ArrDelay** column to **label**."
   ]
  },
  {
   "cell_type": "code",
   "execution_count": 9,
   "metadata": {
    "scrolled": false
   },
   "outputs": [
    {
     "name": "stdout",
     "output_type": "stream",
     "text": [
      "+--------------------+-----+\n",
      "|            features|label|\n",
      "+--------------------+-----+\n",
      "|[1.0,1.0,10140.0,...|  -17|\n",
      "|[1.0,1.0,10140.0,...|   -9|\n",
      "|[1.0,1.0,10140.0,...|  -11|\n",
      "|[1.0,1.0,10140.0,...|  -11|\n",
      "|[1.0,1.0,10140.0,...|  -12|\n",
      "|[1.0,1.0,10140.0,...|  -10|\n",
      "|[1.0,1.0,10140.0,...|   23|\n",
      "|[1.0,1.0,10140.0,...|   41|\n",
      "|[1.0,1.0,10140.0,...|   -8|\n",
      "|[1.0,1.0,10140.0,...|   -5|\n",
      "|[1.0,1.0,10140.0,...|   -1|\n",
      "|[1.0,1.0,10140.0,...|    6|\n",
      "|[1.0,1.0,10140.0,...|  -19|\n",
      "|[1.0,1.0,10140.0,...|  -25|\n",
      "|[1.0,1.0,10140.0,...|   -1|\n",
      "|[1.0,1.0,10140.0,...|   -2|\n",
      "|[1.0,1.0,10140.0,...|   -9|\n",
      "|[1.0,1.0,10140.0,...|   68|\n",
      "|[1.0,1.0,10140.0,...|   13|\n",
      "|[1.0,1.0,10140.0,...|   -5|\n",
      "+--------------------+-----+\n",
      "only showing top 20 rows\n",
      "\n"
     ]
    }
   ],
   "source": [
    "assembler = VectorAssembler(inputCols = [\"DayofMonth\", \"DayOfWeek\", \"OriginAirportID\", \"DestAirportID\", \"DepDelay\"], outputCol=\"features\")\n",
    "training = assembler.transform(train).select(col(\"features\"), (col(\"ArrDelay\").cast(\"Int\").alias(\"label\")))\n",
    "training.show()"
   ]
  },
  {
   "cell_type": "markdown",
   "metadata": {},
   "source": [
    "### Train a Regression Model\n",
    "Next, you need to train a regression model using the training data. To do this, create an instance of the regression algorithm you want to use and use its **fit** method to train a model based on the training DataFrame. In this exercise, you will use a *Linear Regression* algorithm - though you can use the same technique for any of the regression algorithms supported in the spark.ml API."
   ]
  },
  {
   "cell_type": "code",
   "execution_count": 11,
   "metadata": {
    "scrolled": false
   },
   "outputs": [
    {
     "name": "stdout",
     "output_type": "stream",
     "text": [
      "Model trained!\n"
     ]
    }
   ],
   "source": [
    "lr = LinearRegression(labelCol=\"label\",featuresCol=\"features\", maxIter=10, regParam=0.3)\n",
    "model = lr.fit(training)\n",
    "print(\"Model trained!\")"
   ]
  },
  {
   "cell_type": "markdown",
   "metadata": {},
   "source": [
    "### Prepare the Testing Data\n",
    "Now that you have a trained model, you can test it using the testing data you reserved previously. First, you need to prepare the testing data in the same way as you did the training data by transforming the feature columns into a vector. This time you'll rename the **ArrDelay** column to **trueLabel**."
   ]
  },
  {
   "cell_type": "code",
   "execution_count": 12,
   "metadata": {},
   "outputs": [
    {
     "name": "stdout",
     "output_type": "stream",
     "text": [
      "+--------------------+---------+\n",
      "|            features|trueLabel|\n",
      "+--------------------+---------+\n",
      "|[1.0,1.0,10140.0,...|      -11|\n",
      "|[1.0,1.0,10140.0,...|      -14|\n",
      "|[1.0,1.0,10140.0,...|       19|\n",
      "|[1.0,1.0,10140.0,...|       -5|\n",
      "|[1.0,1.0,10140.0,...|       -6|\n",
      "|[1.0,1.0,10140.0,...|       13|\n",
      "|[1.0,1.0,10140.0,...|      -13|\n",
      "|[1.0,1.0,10140.0,...|      -11|\n",
      "|[1.0,1.0,10140.0,...|      -18|\n",
      "|[1.0,1.0,10140.0,...|       18|\n",
      "|[1.0,1.0,10140.0,...|       -9|\n",
      "|[1.0,1.0,10140.0,...|       -8|\n",
      "|[1.0,1.0,10140.0,...|       14|\n",
      "|[1.0,1.0,10140.0,...|       -8|\n",
      "|[1.0,1.0,10140.0,...|        7|\n",
      "|[1.0,1.0,10140.0,...|       30|\n",
      "|[1.0,1.0,10140.0,...|       -9|\n",
      "|[1.0,1.0,10140.0,...|       -6|\n",
      "|[1.0,1.0,10140.0,...|      -14|\n",
      "|[1.0,1.0,10140.0,...|      -24|\n",
      "+--------------------+---------+\n",
      "only showing top 20 rows\n",
      "\n"
     ]
    }
   ],
   "source": [
    "testing = assembler.transform(test).select(col(\"features\"), (col(\"ArrDelay\")).cast(\"Int\").alias(\"trueLabel\"))\n",
    "testing.show()"
   ]
  },
  {
   "cell_type": "markdown",
   "metadata": {},
   "source": [
    "### Test the Model\n",
    "Now you're ready to use the **transform** method of the model to generate some predictions. You can use this approach to predict arrival delay for flights where the label is unknown; but in this case you are using the test data which includes a known true label value, so you can compare the predicted number of minutes late or early to the actual arrival delay. "
   ]
  },
  {
   "cell_type": "code",
   "execution_count": 13,
   "metadata": {
    "scrolled": false
   },
   "outputs": [
    {
     "name": "stdout",
     "output_type": "stream",
     "text": [
      "+--------------------+-------------------+---------+\n",
      "|            features|         prediction|trueLabel|\n",
      "+--------------------+-------------------+---------+\n",
      "|[1.0,1.0,10140.0,...| -7.568107663401861|      -11|\n",
      "|[1.0,1.0,10140.0,...| -5.768445310216983|      -14|\n",
      "|[1.0,1.0,10140.0,...| 17.175482276437414|       19|\n",
      "|[1.0,1.0,10140.0,...| -5.775928185968615|       -5|\n",
      "|[1.0,1.0,10140.0,...| -4.778366116983641|       -6|\n",
      "|[1.0,1.0,10140.0,...| 2.2045683659111757|       13|\n",
      "|[1.0,1.0,10140.0,...|-13.757785260712337|      -13|\n",
      "|[1.0,1.0,10140.0,...|   -3.7821645708626|      -11|\n",
      "|[1.0,1.0,10140.0,...|  -6.97734193073291|      -18|\n",
      "|[1.0,1.0,10140.0,...|  27.93733048374117|       18|\n",
      "|[1.0,1.0,10140.0,...| -8.133178159555445|       -9|\n",
      "|[1.0,1.0,10140.0,...| -5.140491952600524|       -8|\n",
      "|[1.0,1.0,10140.0,...| 2.8400045992792653|       14|\n",
      "|[1.0,1.0,10140.0,...| -6.138734283017465|       -8|\n",
      "|[1.0,1.0,10140.0,...|  9.822258820742114|        7|\n",
      "|[1.0,1.0,10140.0,...|   21.7930036485618|       30|\n",
      "|[1.0,1.0,10140.0,...| -8.210954716610292|       -9|\n",
      "|[1.0,1.0,10140.0,...| -4.220706440670398|       -6|\n",
      "|[1.0,1.0,10140.0,...|  -5.34615765886509|      -14|\n",
      "|[1.0,1.0,10140.0,...| -8.369228876447853|      -24|\n",
      "+--------------------+-------------------+---------+\n",
      "only showing top 20 rows\n",
      "\n"
     ]
    }
   ],
   "source": [
    "prediction = model.transform(testing)\n",
    "predicted = prediction.select(\"features\", \"prediction\", \"trueLabel\")\n",
    "predicted.show()"
   ]
  },
  {
   "cell_type": "markdown",
   "metadata": {},
   "source": [
    "Looking at the result, the **prediction** column contains the predicted value for the label, and the **trueLabel** column contains the actual known value from the testing data. It looks like there is some variance between the predictions and the actual values (the individual differences are referred to as *residuals*)- later in this course you'll learn how to measure the accuracy of a model."
   ]
  },
  {
   "cell_type": "code",
   "execution_count": null,
   "metadata": {
    "collapsed": true
   },
   "outputs": [],
   "source": []
  }
 ],
 "metadata": {
  "kernelspec": {
   "display_name": "Python 3",
   "language": "python",
   "name": "python3"
  },
  "language_info": {
   "codemirror_mode": {
    "name": "ipython",
    "version": 3
   },
   "file_extension": ".py",
   "mimetype": "text/x-python",
   "name": "python",
   "nbconvert_exporter": "python",
   "pygments_lexer": "ipython3",
   "version": "3.6.1"
  }
 },
 "nbformat": 4,
 "nbformat_minor": 1
}
